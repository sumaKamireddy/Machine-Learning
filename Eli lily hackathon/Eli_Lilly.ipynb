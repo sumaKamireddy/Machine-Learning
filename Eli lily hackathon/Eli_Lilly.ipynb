{
  "nbformat": 4,
  "nbformat_minor": 0,
  "metadata": {
    "colab": {
      "name": "Eli Lilly.ipynb",
      "provenance": [],
      "collapsed_sections": []
    },
    "kernelspec": {
      "name": "python3",
      "display_name": "Python 3"
    },
    "language_info": {
      "name": "python"
    }
  },
  "cells": [
    {
      "cell_type": "code",
      "execution_count": 56,
      "metadata": {
        "colab": {
          "base_uri": "https://localhost:8080/"
        },
        "id": "_fIUUuY5H6T0",
        "outputId": "96d421d5-9ee7-4b3b-bd8f-30cfe1deae93"
      },
      "outputs": [
        {
          "output_type": "stream",
          "name": "stdout",
          "text": [
            "Requirement already satisfied: catboost in /usr/local/lib/python3.7/dist-packages (1.0.3)\n",
            "Requirement already satisfied: plotly in /usr/local/lib/python3.7/dist-packages (from catboost) (4.4.1)\n",
            "Requirement already satisfied: scipy in /usr/local/lib/python3.7/dist-packages (from catboost) (1.4.1)\n",
            "Requirement already satisfied: graphviz in /usr/local/lib/python3.7/dist-packages (from catboost) (0.10.1)\n",
            "Requirement already satisfied: matplotlib in /usr/local/lib/python3.7/dist-packages (from catboost) (3.2.2)\n",
            "Requirement already satisfied: pandas>=0.24.0 in /usr/local/lib/python3.7/dist-packages (from catboost) (1.1.5)\n",
            "Requirement already satisfied: numpy>=1.16.0 in /usr/local/lib/python3.7/dist-packages (from catboost) (1.19.5)\n",
            "Requirement already satisfied: six in /usr/local/lib/python3.7/dist-packages (from catboost) (1.15.0)\n",
            "Requirement already satisfied: python-dateutil>=2.7.3 in /usr/local/lib/python3.7/dist-packages (from pandas>=0.24.0->catboost) (2.8.2)\n",
            "Requirement already satisfied: pytz>=2017.2 in /usr/local/lib/python3.7/dist-packages (from pandas>=0.24.0->catboost) (2018.9)\n",
            "Requirement already satisfied: cycler>=0.10 in /usr/local/lib/python3.7/dist-packages (from matplotlib->catboost) (0.11.0)\n",
            "Requirement already satisfied: pyparsing!=2.0.4,!=2.1.2,!=2.1.6,>=2.0.1 in /usr/local/lib/python3.7/dist-packages (from matplotlib->catboost) (3.0.6)\n",
            "Requirement already satisfied: kiwisolver>=1.0.1 in /usr/local/lib/python3.7/dist-packages (from matplotlib->catboost) (1.3.2)\n",
            "Requirement already satisfied: retrying>=1.3.3 in /usr/local/lib/python3.7/dist-packages (from plotly->catboost) (1.3.3)\n",
            "Requirement already satisfied: ipywidgets in /usr/local/lib/python3.7/dist-packages (7.6.5)\n",
            "Requirement already satisfied: ipykernel>=4.5.1 in /usr/local/lib/python3.7/dist-packages (from ipywidgets) (4.10.1)\n",
            "Requirement already satisfied: nbformat>=4.2.0 in /usr/local/lib/python3.7/dist-packages (from ipywidgets) (5.1.3)\n",
            "Requirement already satisfied: jupyterlab-widgets>=1.0.0 in /usr/local/lib/python3.7/dist-packages (from ipywidgets) (1.0.2)\n",
            "Requirement already satisfied: widgetsnbextension~=3.5.0 in /usr/local/lib/python3.7/dist-packages (from ipywidgets) (3.5.2)\n",
            "Requirement already satisfied: ipython-genutils~=0.2.0 in /usr/local/lib/python3.7/dist-packages (from ipywidgets) (0.2.0)\n",
            "Requirement already satisfied: traitlets>=4.3.1 in /usr/local/lib/python3.7/dist-packages (from ipywidgets) (5.1.1)\n",
            "Requirement already satisfied: ipython>=4.0.0 in /usr/local/lib/python3.7/dist-packages (from ipywidgets) (5.5.0)\n",
            "Requirement already satisfied: tornado>=4.0 in /usr/local/lib/python3.7/dist-packages (from ipykernel>=4.5.1->ipywidgets) (5.1.1)\n",
            "Requirement already satisfied: jupyter-client in /usr/local/lib/python3.7/dist-packages (from ipykernel>=4.5.1->ipywidgets) (5.3.5)\n",
            "Requirement already satisfied: prompt-toolkit<2.0.0,>=1.0.4 in /usr/local/lib/python3.7/dist-packages (from ipython>=4.0.0->ipywidgets) (1.0.18)\n",
            "Requirement already satisfied: pygments in /usr/local/lib/python3.7/dist-packages (from ipython>=4.0.0->ipywidgets) (2.6.1)\n",
            "Requirement already satisfied: pexpect in /usr/local/lib/python3.7/dist-packages (from ipython>=4.0.0->ipywidgets) (4.8.0)\n",
            "Requirement already satisfied: decorator in /usr/local/lib/python3.7/dist-packages (from ipython>=4.0.0->ipywidgets) (4.4.2)\n",
            "Requirement already satisfied: setuptools>=18.5 in /usr/local/lib/python3.7/dist-packages (from ipython>=4.0.0->ipywidgets) (57.4.0)\n",
            "Requirement already satisfied: pickleshare in /usr/local/lib/python3.7/dist-packages (from ipython>=4.0.0->ipywidgets) (0.7.5)\n",
            "Requirement already satisfied: simplegeneric>0.8 in /usr/local/lib/python3.7/dist-packages (from ipython>=4.0.0->ipywidgets) (0.8.1)\n",
            "Requirement already satisfied: jsonschema!=2.5.0,>=2.4 in /usr/local/lib/python3.7/dist-packages (from nbformat>=4.2.0->ipywidgets) (2.6.0)\n",
            "Requirement already satisfied: jupyter-core in /usr/local/lib/python3.7/dist-packages (from nbformat>=4.2.0->ipywidgets) (4.9.1)\n",
            "Requirement already satisfied: six>=1.9.0 in /usr/local/lib/python3.7/dist-packages (from prompt-toolkit<2.0.0,>=1.0.4->ipython>=4.0.0->ipywidgets) (1.15.0)\n",
            "Requirement already satisfied: wcwidth in /usr/local/lib/python3.7/dist-packages (from prompt-toolkit<2.0.0,>=1.0.4->ipython>=4.0.0->ipywidgets) (0.2.5)\n",
            "Requirement already satisfied: notebook>=4.4.1 in /usr/local/lib/python3.7/dist-packages (from widgetsnbextension~=3.5.0->ipywidgets) (5.3.1)\n",
            "Requirement already satisfied: jinja2 in /usr/local/lib/python3.7/dist-packages (from notebook>=4.4.1->widgetsnbextension~=3.5.0->ipywidgets) (2.11.3)\n",
            "Requirement already satisfied: terminado>=0.8.1 in /usr/local/lib/python3.7/dist-packages (from notebook>=4.4.1->widgetsnbextension~=3.5.0->ipywidgets) (0.12.1)\n",
            "Requirement already satisfied: nbconvert in /usr/local/lib/python3.7/dist-packages (from notebook>=4.4.1->widgetsnbextension~=3.5.0->ipywidgets) (5.6.1)\n",
            "Requirement already satisfied: Send2Trash in /usr/local/lib/python3.7/dist-packages (from notebook>=4.4.1->widgetsnbextension~=3.5.0->ipywidgets) (1.8.0)\n",
            "Requirement already satisfied: pyzmq>=13 in /usr/local/lib/python3.7/dist-packages (from jupyter-client->ipykernel>=4.5.1->ipywidgets) (22.3.0)\n",
            "Requirement already satisfied: python-dateutil>=2.1 in /usr/local/lib/python3.7/dist-packages (from jupyter-client->ipykernel>=4.5.1->ipywidgets) (2.8.2)\n",
            "Requirement already satisfied: ptyprocess in /usr/local/lib/python3.7/dist-packages (from terminado>=0.8.1->notebook>=4.4.1->widgetsnbextension~=3.5.0->ipywidgets) (0.7.0)\n",
            "Requirement already satisfied: MarkupSafe>=0.23 in /usr/local/lib/python3.7/dist-packages (from jinja2->notebook>=4.4.1->widgetsnbextension~=3.5.0->ipywidgets) (2.0.1)\n",
            "Requirement already satisfied: testpath in /usr/local/lib/python3.7/dist-packages (from nbconvert->notebook>=4.4.1->widgetsnbextension~=3.5.0->ipywidgets) (0.5.0)\n",
            "Requirement already satisfied: pandocfilters>=1.4.1 in /usr/local/lib/python3.7/dist-packages (from nbconvert->notebook>=4.4.1->widgetsnbextension~=3.5.0->ipywidgets) (1.5.0)\n",
            "Requirement already satisfied: defusedxml in /usr/local/lib/python3.7/dist-packages (from nbconvert->notebook>=4.4.1->widgetsnbextension~=3.5.0->ipywidgets) (0.7.1)\n",
            "Requirement already satisfied: mistune<2,>=0.8.1 in /usr/local/lib/python3.7/dist-packages (from nbconvert->notebook>=4.4.1->widgetsnbextension~=3.5.0->ipywidgets) (0.8.4)\n",
            "Requirement already satisfied: entrypoints>=0.2.2 in /usr/local/lib/python3.7/dist-packages (from nbconvert->notebook>=4.4.1->widgetsnbextension~=3.5.0->ipywidgets) (0.3)\n",
            "Requirement already satisfied: bleach in /usr/local/lib/python3.7/dist-packages (from nbconvert->notebook>=4.4.1->widgetsnbextension~=3.5.0->ipywidgets) (4.1.0)\n",
            "Requirement already satisfied: webencodings in /usr/local/lib/python3.7/dist-packages (from bleach->nbconvert->notebook>=4.4.1->widgetsnbextension~=3.5.0->ipywidgets) (0.5.1)\n",
            "Requirement already satisfied: packaging in /usr/local/lib/python3.7/dist-packages (from bleach->nbconvert->notebook>=4.4.1->widgetsnbextension~=3.5.0->ipywidgets) (21.3)\n",
            "Requirement already satisfied: pyparsing!=3.0.5,>=2.0.2 in /usr/local/lib/python3.7/dist-packages (from packaging->bleach->nbconvert->notebook>=4.4.1->widgetsnbextension~=3.5.0->ipywidgets) (3.0.6)\n",
            "Enabling notebook extension jupyter-js-widgets/extension...\n",
            "      - Validating: \u001b[32mOK\u001b[0m\n"
          ]
        }
      ],
      "source": [
        "!pip install catboost\n",
        "!pip install ipywidgets\n",
        "!jupyter nbextension enable --py widgetsnbextension"
      ]
    },
    {
      "cell_type": "markdown",
      "source": [
        "# import libraries"
      ],
      "metadata": {
        "id": "3q4V5rC0H9zT"
      }
    },
    {
      "cell_type": "code",
      "source": [
        "import pandas as pd\n",
        "import numpy as np\n",
        "import seaborn as sns\n",
        "from xgboost import XGBClassifier\n",
        "from catboost import CatBoostClassifier\n",
        "from lightgbm import LGBMClassifier\n",
        "import matplotlib.pyplot as plt"
      ],
      "metadata": {
        "id": "pSkEHHtHIBox"
      },
      "execution_count": 57,
      "outputs": []
    },
    {
      "cell_type": "code",
      "source": [
        "from google.colab import output\n",
        "output.enable_custom_widget_manager()"
      ],
      "metadata": {
        "id": "1UjYmrLjmd9P"
      },
      "execution_count": 58,
      "outputs": []
    },
    {
      "cell_type": "markdown",
      "source": [
        "# Load Data"
      ],
      "metadata": {
        "id": "sNfC-rvPImxC"
      }
    },
    {
      "cell_type": "code",
      "source": [
        "train = pd.read_csv('train.csv')\n",
        "test = pd.read_csv('test.csv')"
      ],
      "metadata": {
        "id": "eJL99uzzIEyv"
      },
      "execution_count": 59,
      "outputs": []
    },
    {
      "cell_type": "code",
      "source": [
        "train.head()"
      ],
      "metadata": {
        "colab": {
          "base_uri": "https://localhost:8080/",
          "height": 409
        },
        "id": "uLhPNbd4Iw1p",
        "outputId": "dc747982-2b00-417a-c51f-b540be32f74a"
      },
      "execution_count": 60,
      "outputs": [
        {
          "output_type": "execute_result",
          "data": {
            "text/html": [
              "\n",
              "  <div id=\"df-71a41707-b96c-4bad-8f1c-dde038ea028c\">\n",
              "    <div class=\"colab-df-container\">\n",
              "      <div>\n",
              "<style scoped>\n",
              "    .dataframe tbody tr th:only-of-type {\n",
              "        vertical-align: middle;\n",
              "    }\n",
              "\n",
              "    .dataframe tbody tr th {\n",
              "        vertical-align: top;\n",
              "    }\n",
              "\n",
              "    .dataframe thead th {\n",
              "        text-align: right;\n",
              "    }\n",
              "</style>\n",
              "<table border=\"1\" class=\"dataframe\">\n",
              "  <thead>\n",
              "    <tr style=\"text-align: right;\">\n",
              "      <th></th>\n",
              "      <th>instance_id</th>\n",
              "      <th>track_name</th>\n",
              "      <th>popularity</th>\n",
              "      <th>acousticness</th>\n",
              "      <th>danceability</th>\n",
              "      <th>duration_ms</th>\n",
              "      <th>energy</th>\n",
              "      <th>instrumentalness</th>\n",
              "      <th>key</th>\n",
              "      <th>liveness</th>\n",
              "      <th>loudness</th>\n",
              "      <th>voice_gender</th>\n",
              "      <th>mode</th>\n",
              "      <th>speechiness</th>\n",
              "      <th>tempo</th>\n",
              "      <th>musician_category</th>\n",
              "      <th>valence</th>\n",
              "      <th>music_genre</th>\n",
              "    </tr>\n",
              "  </thead>\n",
              "  <tbody>\n",
              "    <tr>\n",
              "      <th>0</th>\n",
              "      <td>MSC_83537.0</td>\n",
              "      <td>Estrellitas y Duendes</td>\n",
              "      <td>49.178</td>\n",
              "      <td>0.970522</td>\n",
              "      <td>0.580508</td>\n",
              "      <td>214625.776</td>\n",
              "      <td>0.192107</td>\n",
              "      <td>0.000000</td>\n",
              "      <td>Scale E</td>\n",
              "      <td>0.147134</td>\n",
              "      <td>-14.140</td>\n",
              "      <td>NaN</td>\n",
              "      <td>Major</td>\n",
              "      <td>0.046404</td>\n",
              "      <td>143.78799999999998</td>\n",
              "      <td>Band</td>\n",
              "      <td>0.598965</td>\n",
              "      <td>Jazz</td>\n",
              "    </tr>\n",
              "    <tr>\n",
              "      <th>1</th>\n",
              "      <td>MSC_22044.0</td>\n",
              "      <td>Al Norte</td>\n",
              "      <td>59.827</td>\n",
              "      <td>1.009380</td>\n",
              "      <td>0.687542</td>\n",
              "      <td>216232.195</td>\n",
              "      <td>0.265942</td>\n",
              "      <td>0.000031</td>\n",
              "      <td>Scale A</td>\n",
              "      <td>0.174655</td>\n",
              "      <td>-13.716</td>\n",
              "      <td>Male</td>\n",
              "      <td>?</td>\n",
              "      <td>0.039949</td>\n",
              "      <td>?</td>\n",
              "      <td>Band</td>\n",
              "      <td>0.357194</td>\n",
              "      <td>Jazz</td>\n",
              "    </tr>\n",
              "    <tr>\n",
              "      <th>2</th>\n",
              "      <td>MSC_62017.0</td>\n",
              "      <td>Yeah! (feat. Lil Jon &amp; Ludacris)</td>\n",
              "      <td>89.023</td>\n",
              "      <td>0.020041</td>\n",
              "      <td>0.967948</td>\n",
              "      <td>273314.723</td>\n",
              "      <td>0.857411</td>\n",
              "      <td>0.000000</td>\n",
              "      <td>Scale D</td>\n",
              "      <td>0.042030</td>\n",
              "      <td>-4.995</td>\n",
              "      <td>Female</td>\n",
              "      <td>Major</td>\n",
              "      <td>0.119917</td>\n",
              "      <td>105.01799999999999</td>\n",
              "      <td>Band</td>\n",
              "      <td>0.635525</td>\n",
              "      <td>Rap</td>\n",
              "    </tr>\n",
              "    <tr>\n",
              "      <th>3</th>\n",
              "      <td>MSC_76365.0</td>\n",
              "      <td>Can’t You See</td>\n",
              "      <td>55.762</td>\n",
              "      <td>0.010284</td>\n",
              "      <td>0.616287</td>\n",
              "      <td>189189.605</td>\n",
              "      <td>0.970513</td>\n",
              "      <td>0.000220</td>\n",
              "      <td>Scale D</td>\n",
              "      <td>0.124637</td>\n",
              "      <td>-4.262</td>\n",
              "      <td>Both</td>\n",
              "      <td>Major</td>\n",
              "      <td>0.167493</td>\n",
              "      <td>?</td>\n",
              "      <td>Duet</td>\n",
              "      <td>0.983750</td>\n",
              "      <td>Rock</td>\n",
              "    </tr>\n",
              "    <tr>\n",
              "      <th>4</th>\n",
              "      <td>MSC_71493.0</td>\n",
              "      <td>Sonata III (G Moll), BWV 1029: Adagio</td>\n",
              "      <td>45.095</td>\n",
              "      <td>0.858769</td>\n",
              "      <td>0.280645</td>\n",
              "      <td>410136.987</td>\n",
              "      <td>0.114732</td>\n",
              "      <td>0.002753</td>\n",
              "      <td>Scale F Sharp</td>\n",
              "      <td>0.134782</td>\n",
              "      <td>-26.922</td>\n",
              "      <td>Female</td>\n",
              "      <td>Minor</td>\n",
              "      <td>0.039139</td>\n",
              "      <td>112.18299999999999</td>\n",
              "      <td>Band</td>\n",
              "      <td>0.074412</td>\n",
              "      <td>Classical</td>\n",
              "    </tr>\n",
              "  </tbody>\n",
              "</table>\n",
              "</div>\n",
              "      <button class=\"colab-df-convert\" onclick=\"convertToInteractive('df-71a41707-b96c-4bad-8f1c-dde038ea028c')\"\n",
              "              title=\"Convert this dataframe to an interactive table.\"\n",
              "              style=\"display:none;\">\n",
              "        \n",
              "  <svg xmlns=\"http://www.w3.org/2000/svg\" height=\"24px\"viewBox=\"0 0 24 24\"\n",
              "       width=\"24px\">\n",
              "    <path d=\"M0 0h24v24H0V0z\" fill=\"none\"/>\n",
              "    <path d=\"M18.56 5.44l.94 2.06.94-2.06 2.06-.94-2.06-.94-.94-2.06-.94 2.06-2.06.94zm-11 1L8.5 8.5l.94-2.06 2.06-.94-2.06-.94L8.5 2.5l-.94 2.06-2.06.94zm10 10l.94 2.06.94-2.06 2.06-.94-2.06-.94-.94-2.06-.94 2.06-2.06.94z\"/><path d=\"M17.41 7.96l-1.37-1.37c-.4-.4-.92-.59-1.43-.59-.52 0-1.04.2-1.43.59L10.3 9.45l-7.72 7.72c-.78.78-.78 2.05 0 2.83L4 21.41c.39.39.9.59 1.41.59.51 0 1.02-.2 1.41-.59l7.78-7.78 2.81-2.81c.8-.78.8-2.07 0-2.86zM5.41 20L4 18.59l7.72-7.72 1.47 1.35L5.41 20z\"/>\n",
              "  </svg>\n",
              "      </button>\n",
              "      \n",
              "  <style>\n",
              "    .colab-df-container {\n",
              "      display:flex;\n",
              "      flex-wrap:wrap;\n",
              "      gap: 12px;\n",
              "    }\n",
              "\n",
              "    .colab-df-convert {\n",
              "      background-color: #E8F0FE;\n",
              "      border: none;\n",
              "      border-radius: 50%;\n",
              "      cursor: pointer;\n",
              "      display: none;\n",
              "      fill: #1967D2;\n",
              "      height: 32px;\n",
              "      padding: 0 0 0 0;\n",
              "      width: 32px;\n",
              "    }\n",
              "\n",
              "    .colab-df-convert:hover {\n",
              "      background-color: #E2EBFA;\n",
              "      box-shadow: 0px 1px 2px rgba(60, 64, 67, 0.3), 0px 1px 3px 1px rgba(60, 64, 67, 0.15);\n",
              "      fill: #174EA6;\n",
              "    }\n",
              "\n",
              "    [theme=dark] .colab-df-convert {\n",
              "      background-color: #3B4455;\n",
              "      fill: #D2E3FC;\n",
              "    }\n",
              "\n",
              "    [theme=dark] .colab-df-convert:hover {\n",
              "      background-color: #434B5C;\n",
              "      box-shadow: 0px 1px 3px 1px rgba(0, 0, 0, 0.15);\n",
              "      filter: drop-shadow(0px 1px 2px rgba(0, 0, 0, 0.3));\n",
              "      fill: #FFFFFF;\n",
              "    }\n",
              "  </style>\n",
              "\n",
              "      <script>\n",
              "        const buttonEl =\n",
              "          document.querySelector('#df-71a41707-b96c-4bad-8f1c-dde038ea028c button.colab-df-convert');\n",
              "        buttonEl.style.display =\n",
              "          google.colab.kernel.accessAllowed ? 'block' : 'none';\n",
              "\n",
              "        async function convertToInteractive(key) {\n",
              "          const element = document.querySelector('#df-71a41707-b96c-4bad-8f1c-dde038ea028c');\n",
              "          const dataTable =\n",
              "            await google.colab.kernel.invokeFunction('convertToInteractive',\n",
              "                                                     [key], {});\n",
              "          if (!dataTable) return;\n",
              "\n",
              "          const docLinkHtml = 'Like what you see? Visit the ' +\n",
              "            '<a target=\"_blank\" href=https://colab.research.google.com/notebooks/data_table.ipynb>data table notebook</a>'\n",
              "            + ' to learn more about interactive tables.';\n",
              "          element.innerHTML = '';\n",
              "          dataTable['output_type'] = 'display_data';\n",
              "          await google.colab.output.renderOutput(dataTable, element);\n",
              "          const docLink = document.createElement('div');\n",
              "          docLink.innerHTML = docLinkHtml;\n",
              "          element.appendChild(docLink);\n",
              "        }\n",
              "      </script>\n",
              "    </div>\n",
              "  </div>\n",
              "  "
            ],
            "text/plain": [
              "   instance_id                             track_name  ...   valence  music_genre\n",
              "0  MSC_83537.0                  Estrellitas y Duendes  ...  0.598965         Jazz\n",
              "1  MSC_22044.0                               Al Norte  ...  0.357194         Jazz\n",
              "2  MSC_62017.0       Yeah! (feat. Lil Jon & Ludacris)  ...  0.635525          Rap\n",
              "3  MSC_76365.0                          Can’t You See  ...  0.983750         Rock\n",
              "4  MSC_71493.0  Sonata III (G Moll), BWV 1029: Adagio  ...  0.074412    Classical\n",
              "\n",
              "[5 rows x 18 columns]"
            ]
          },
          "metadata": {},
          "execution_count": 60
        }
      ]
    },
    {
      "cell_type": "code",
      "source": [
        "test.head()"
      ],
      "metadata": {
        "colab": {
          "base_uri": "https://localhost:8080/",
          "height": 426
        },
        "id": "-ZLg7oiRIyUI",
        "outputId": "be6ef089-b032-48a4-a6ff-d9664adab1b3"
      },
      "execution_count": 61,
      "outputs": [
        {
          "output_type": "execute_result",
          "data": {
            "text/html": [
              "\n",
              "  <div id=\"df-0237d05e-870a-4210-b489-b4943bea8b73\">\n",
              "    <div class=\"colab-df-container\">\n",
              "      <div>\n",
              "<style scoped>\n",
              "    .dataframe tbody tr th:only-of-type {\n",
              "        vertical-align: middle;\n",
              "    }\n",
              "\n",
              "    .dataframe tbody tr th {\n",
              "        vertical-align: top;\n",
              "    }\n",
              "\n",
              "    .dataframe thead th {\n",
              "        text-align: right;\n",
              "    }\n",
              "</style>\n",
              "<table border=\"1\" class=\"dataframe\">\n",
              "  <thead>\n",
              "    <tr style=\"text-align: right;\">\n",
              "      <th></th>\n",
              "      <th>instance_id</th>\n",
              "      <th>track_name</th>\n",
              "      <th>popularity</th>\n",
              "      <th>acousticness</th>\n",
              "      <th>danceability</th>\n",
              "      <th>duration_ms</th>\n",
              "      <th>energy</th>\n",
              "      <th>instrumentalness</th>\n",
              "      <th>key</th>\n",
              "      <th>liveness</th>\n",
              "      <th>loudness</th>\n",
              "      <th>voice_gender</th>\n",
              "      <th>mode</th>\n",
              "      <th>speechiness</th>\n",
              "      <th>tempo</th>\n",
              "      <th>musician_category</th>\n",
              "      <th>valence</th>\n",
              "    </tr>\n",
              "  </thead>\n",
              "  <tbody>\n",
              "    <tr>\n",
              "      <th>0</th>\n",
              "      <td>MSC_70753.0</td>\n",
              "      <td>Bard, a Man of Lake-town - Extended Version</td>\n",
              "      <td>26.101</td>\n",
              "      <td>0.823765</td>\n",
              "      <td>0.115490</td>\n",
              "      <td>211462.287</td>\n",
              "      <td>0.125325</td>\n",
              "      <td>0.945272</td>\n",
              "      <td>Scale A Sharp</td>\n",
              "      <td>0.120392</td>\n",
              "      <td>-25.541</td>\n",
              "      <td>Both</td>\n",
              "      <td>Minor</td>\n",
              "      <td>0.038657</td>\n",
              "      <td>80.777</td>\n",
              "      <td>Duet</td>\n",
              "      <td>0.041238</td>\n",
              "    </tr>\n",
              "    <tr>\n",
              "      <th>1</th>\n",
              "      <td>MSC_24064.0</td>\n",
              "      <td>New Kings</td>\n",
              "      <td>66.325</td>\n",
              "      <td>0.015441</td>\n",
              "      <td>0.592838</td>\n",
              "      <td>249151.238</td>\n",
              "      <td>0.870798</td>\n",
              "      <td>0.000108</td>\n",
              "      <td>Scale E</td>\n",
              "      <td>0.406722</td>\n",
              "      <td>-3.905</td>\n",
              "      <td>Male</td>\n",
              "      <td>?</td>\n",
              "      <td>0.051368</td>\n",
              "      <td>76.00399999999999</td>\n",
              "      <td>Band</td>\n",
              "      <td>0.456309</td>\n",
              "    </tr>\n",
              "    <tr>\n",
              "      <th>2</th>\n",
              "      <td>MSC_22731.0</td>\n",
              "      <td>Silver Lining</td>\n",
              "      <td>71.871</td>\n",
              "      <td>0.001006</td>\n",
              "      <td>0.510340</td>\n",
              "      <td>215693.240</td>\n",
              "      <td>0.683077</td>\n",
              "      <td>0.000000</td>\n",
              "      <td>Scale C</td>\n",
              "      <td>0.084608</td>\n",
              "      <td>-6.825</td>\n",
              "      <td>Female</td>\n",
              "      <td>Major</td>\n",
              "      <td>0.034303</td>\n",
              "      <td>144.458</td>\n",
              "      <td>Solo</td>\n",
              "      <td>0.193332</td>\n",
              "    </tr>\n",
              "    <tr>\n",
              "      <th>3</th>\n",
              "      <td>MSC_32095.0</td>\n",
              "      <td>A Tale That Wasn't Right</td>\n",
              "      <td>56.151</td>\n",
              "      <td>0.315650</td>\n",
              "      <td>0.338336</td>\n",
              "      <td>307056.179</td>\n",
              "      <td>0.608904</td>\n",
              "      <td>0.000000</td>\n",
              "      <td>Scale A</td>\n",
              "      <td>0.276811</td>\n",
              "      <td>-8.382</td>\n",
              "      <td>Female</td>\n",
              "      <td>Minor</td>\n",
              "      <td>0.036934</td>\n",
              "      <td>118.145</td>\n",
              "      <td>Solo</td>\n",
              "      <td>0.214906</td>\n",
              "    </tr>\n",
              "    <tr>\n",
              "      <th>4</th>\n",
              "      <td>MSC_24198.0</td>\n",
              "      <td>Get Ready</td>\n",
              "      <td>43.687</td>\n",
              "      <td>0.038336</td>\n",
              "      <td>0.773904</td>\n",
              "      <td>352802.872</td>\n",
              "      <td>0.955500</td>\n",
              "      <td>0.000007</td>\n",
              "      <td>Scale D</td>\n",
              "      <td>0.301726</td>\n",
              "      <td>-4.733</td>\n",
              "      <td>Both</td>\n",
              "      <td>Major</td>\n",
              "      <td>0.079688</td>\n",
              "      <td>95.012</td>\n",
              "      <td>Duet</td>\n",
              "      <td>0.757347</td>\n",
              "    </tr>\n",
              "  </tbody>\n",
              "</table>\n",
              "</div>\n",
              "      <button class=\"colab-df-convert\" onclick=\"convertToInteractive('df-0237d05e-870a-4210-b489-b4943bea8b73')\"\n",
              "              title=\"Convert this dataframe to an interactive table.\"\n",
              "              style=\"display:none;\">\n",
              "        \n",
              "  <svg xmlns=\"http://www.w3.org/2000/svg\" height=\"24px\"viewBox=\"0 0 24 24\"\n",
              "       width=\"24px\">\n",
              "    <path d=\"M0 0h24v24H0V0z\" fill=\"none\"/>\n",
              "    <path d=\"M18.56 5.44l.94 2.06.94-2.06 2.06-.94-2.06-.94-.94-2.06-.94 2.06-2.06.94zm-11 1L8.5 8.5l.94-2.06 2.06-.94-2.06-.94L8.5 2.5l-.94 2.06-2.06.94zm10 10l.94 2.06.94-2.06 2.06-.94-2.06-.94-.94-2.06-.94 2.06-2.06.94z\"/><path d=\"M17.41 7.96l-1.37-1.37c-.4-.4-.92-.59-1.43-.59-.52 0-1.04.2-1.43.59L10.3 9.45l-7.72 7.72c-.78.78-.78 2.05 0 2.83L4 21.41c.39.39.9.59 1.41.59.51 0 1.02-.2 1.41-.59l7.78-7.78 2.81-2.81c.8-.78.8-2.07 0-2.86zM5.41 20L4 18.59l7.72-7.72 1.47 1.35L5.41 20z\"/>\n",
              "  </svg>\n",
              "      </button>\n",
              "      \n",
              "  <style>\n",
              "    .colab-df-container {\n",
              "      display:flex;\n",
              "      flex-wrap:wrap;\n",
              "      gap: 12px;\n",
              "    }\n",
              "\n",
              "    .colab-df-convert {\n",
              "      background-color: #E8F0FE;\n",
              "      border: none;\n",
              "      border-radius: 50%;\n",
              "      cursor: pointer;\n",
              "      display: none;\n",
              "      fill: #1967D2;\n",
              "      height: 32px;\n",
              "      padding: 0 0 0 0;\n",
              "      width: 32px;\n",
              "    }\n",
              "\n",
              "    .colab-df-convert:hover {\n",
              "      background-color: #E2EBFA;\n",
              "      box-shadow: 0px 1px 2px rgba(60, 64, 67, 0.3), 0px 1px 3px 1px rgba(60, 64, 67, 0.15);\n",
              "      fill: #174EA6;\n",
              "    }\n",
              "\n",
              "    [theme=dark] .colab-df-convert {\n",
              "      background-color: #3B4455;\n",
              "      fill: #D2E3FC;\n",
              "    }\n",
              "\n",
              "    [theme=dark] .colab-df-convert:hover {\n",
              "      background-color: #434B5C;\n",
              "      box-shadow: 0px 1px 3px 1px rgba(0, 0, 0, 0.15);\n",
              "      filter: drop-shadow(0px 1px 2px rgba(0, 0, 0, 0.3));\n",
              "      fill: #FFFFFF;\n",
              "    }\n",
              "  </style>\n",
              "\n",
              "      <script>\n",
              "        const buttonEl =\n",
              "          document.querySelector('#df-0237d05e-870a-4210-b489-b4943bea8b73 button.colab-df-convert');\n",
              "        buttonEl.style.display =\n",
              "          google.colab.kernel.accessAllowed ? 'block' : 'none';\n",
              "\n",
              "        async function convertToInteractive(key) {\n",
              "          const element = document.querySelector('#df-0237d05e-870a-4210-b489-b4943bea8b73');\n",
              "          const dataTable =\n",
              "            await google.colab.kernel.invokeFunction('convertToInteractive',\n",
              "                                                     [key], {});\n",
              "          if (!dataTable) return;\n",
              "\n",
              "          const docLinkHtml = 'Like what you see? Visit the ' +\n",
              "            '<a target=\"_blank\" href=https://colab.research.google.com/notebooks/data_table.ipynb>data table notebook</a>'\n",
              "            + ' to learn more about interactive tables.';\n",
              "          element.innerHTML = '';\n",
              "          dataTable['output_type'] = 'display_data';\n",
              "          await google.colab.output.renderOutput(dataTable, element);\n",
              "          const docLink = document.createElement('div');\n",
              "          docLink.innerHTML = docLinkHtml;\n",
              "          element.appendChild(docLink);\n",
              "        }\n",
              "      </script>\n",
              "    </div>\n",
              "  </div>\n",
              "  "
            ],
            "text/plain": [
              "   instance_id  ...   valence\n",
              "0  MSC_70753.0  ...  0.041238\n",
              "1  MSC_24064.0  ...  0.456309\n",
              "2  MSC_22731.0  ...  0.193332\n",
              "3  MSC_32095.0  ...  0.214906\n",
              "4  MSC_24198.0  ...  0.757347\n",
              "\n",
              "[5 rows x 17 columns]"
            ]
          },
          "metadata": {},
          "execution_count": 61
        }
      ]
    },
    {
      "cell_type": "code",
      "source": [
        "print(train.shape,test.shape)"
      ],
      "metadata": {
        "colab": {
          "base_uri": "https://localhost:8080/"
        },
        "id": "auISX0BIIzdO",
        "outputId": "2b03f39b-5977-4ee9-975e-6d83c793687a"
      },
      "execution_count": 62,
      "outputs": [
        {
          "output_type": "stream",
          "name": "stdout",
          "text": [
            "(15681, 18) (3921, 17)\n"
          ]
        }
      ]
    },
    {
      "cell_type": "markdown",
      "source": [
        "# EDA"
      ],
      "metadata": {
        "id": "qzm09iz3I-Pp"
      }
    },
    {
      "cell_type": "code",
      "source": [
        "print(train.info())"
      ],
      "metadata": {
        "colab": {
          "base_uri": "https://localhost:8080/"
        },
        "id": "zSMh8SrVI7en",
        "outputId": "9c6797c8-bcea-405c-cb23-88018e638a95"
      },
      "execution_count": 63,
      "outputs": [
        {
          "output_type": "stream",
          "name": "stdout",
          "text": [
            "<class 'pandas.core.frame.DataFrame'>\n",
            "RangeIndex: 15681 entries, 0 to 15680\n",
            "Data columns (total 18 columns):\n",
            " #   Column             Non-Null Count  Dtype  \n",
            "---  ------             --------------  -----  \n",
            " 0   instance_id        15681 non-null  object \n",
            " 1   track_name         15681 non-null  object \n",
            " 2   popularity         15039 non-null  float64\n",
            " 3   acousticness       15681 non-null  float64\n",
            " 4   danceability       15125 non-null  float64\n",
            " 5   duration_ms        15587 non-null  float64\n",
            " 6   energy             15587 non-null  float64\n",
            " 7   instrumentalness   15586 non-null  float64\n",
            " 8   key                15681 non-null  object \n",
            " 9   liveness           15681 non-null  float64\n",
            " 10  loudness           15645 non-null  float64\n",
            " 11  voice_gender       14916 non-null  object \n",
            " 12  mode               15646 non-null  object \n",
            " 13  speechiness        15655 non-null  float64\n",
            " 14  tempo              15681 non-null  object \n",
            " 15  musician_category  14321 non-null  object \n",
            " 16  valence            15004 non-null  float64\n",
            " 17  music_genre        15681 non-null  object \n",
            "dtypes: float64(10), object(8)\n",
            "memory usage: 2.2+ MB\n",
            "None\n"
          ]
        }
      ]
    },
    {
      "cell_type": "code",
      "source": [
        "\n",
        "target_col = 'music_genre'\n",
        "df = train.copy()\n",
        "categorical_features = [\"instance_id\",\"track_name\",\"key\",\"voice_gender\",\"mode\",\"tempo\",\"musician_category\"]\n",
        "numerical_features = [col for col in df.columns if  col not in categorical_features and col != target_col]\n",
        "for feature in categorical_features:\n",
        "    df[feature] = df[feature].astype(\"category\")\n",
        "for feature in categorical_features:\n",
        "    test[feature] = test[feature].astype(\"category\")\n",
        "    \n",
        "for feature in numerical_features:\n",
        "    df[feature] = df[feature].astype(\"float\")\n",
        "for feature in numerical_features:\n",
        "    test[feature] = test[feature].astype(\"float\")"
      ],
      "metadata": {
        "id": "P-3aP6LJJXBt"
      },
      "execution_count": 64,
      "outputs": []
    },
    {
      "cell_type": "code",
      "source": [
        "y_value_counts = df[target_col].value_counts()\n",
        "print(y_value_counts)\n"
      ],
      "metadata": {
        "colab": {
          "base_uri": "https://localhost:8080/"
        },
        "id": "VC-N19cMJ-6O",
        "outputId": "1a2a5fb2-da3a-4772-94f9-8ded32417d2c"
      },
      "execution_count": 65,
      "outputs": [
        {
          "output_type": "stream",
          "name": "stdout",
          "text": [
            "Classical     3990\n",
            "Rock          3879\n",
            "Rap           3207\n",
            "Jazz          2850\n",
            "Country        683\n",
            "Electronic     614\n",
            "Hip-Hop        458\n",
            "Name: music_genre, dtype: int64\n"
          ]
        }
      ]
    },
    {
      "cell_type": "code",
      "source": [
        "fig, ax=plt.subplots(1,2,figsize=(15,6))\n",
        "_ = sns.countplot(x=target_col, data=df, ax=ax[0])\n",
        "_ = df[target_col].value_counts().plot.pie(autopct=\"%1.1f%%\", ax=ax[1])\n"
      ],
      "metadata": {
        "colab": {
          "base_uri": "https://localhost:8080/",
          "height": 389
        },
        "id": "b4q4VHEKKB8j",
        "outputId": "2d0784b7-7748-44d6-e962-13725d86bc00"
      },
      "execution_count": 66,
      "outputs": [
        {
          "output_type": "display_data",
          "data": {
            "image/png": "[encoded data removed]",
            "text/plain": [
              "<Figure size 1080x432 with 2 Axes>"
            ]
          },
          "metadata": {
            "needs_background": "light"
          }
        }
      ]
    },
    {
      "cell_type": "code",
      "source": [
        "## Histogram Plots\n",
        "df.hist(figsize=(15,15))\n",
        "plt.show()"
      ],
      "metadata": {
        "colab": {
          "base_uri": "https://localhost:8080/",
          "height": 879
        },
        "id": "7w8isPrKLWOM",
        "outputId": "be6ac850-9e34-4159-c27d-6e9e1329c438"
      },
      "execution_count": 67,
      "outputs": [
        {
          "output_type": "display_data",
          "data": {
            "image/png": "[encoded data removed]",
            "text/plain": [
              "<Figure size 1080x1080 with 12 Axes>"
            ]
          },
          "metadata": {
            "needs_background": "light"
          }
        }
      ]
    },
    {
      "cell_type": "code",
      "source": [
        "df.plot(kind=\"density\", layout=(6,5), \n",
        "             subplots=True,sharex=False, sharey=False, figsize=(15,15))\n",
        "plt.show()\n"
      ],
      "metadata": {
        "colab": {
          "base_uri": "https://localhost:8080/",
          "height": 315
        },
        "id": "TLuFjaglLf3i",
        "outputId": "e34dd9fb-18a0-4404-b299-1ad2aa43a17d"
      },
      "execution_count": 68,
      "outputs": [
        {
          "output_type": "display_data",
          "data": {
            "image/png": "[encoded data removed]",
            "text/plain": [
              "<Figure size 1080x1080 with 30 Axes>"
            ]
          },
          "metadata": {
            "needs_background": "light"
          }
        }
      ]
    },
    {
      "cell_type": "code",
      "source": [
        "sns.heatmap(df.corr())"
      ],
      "metadata": {
        "colab": {
          "base_uri": "https://localhost:8080/",
          "height": 363
        },
        "id": "g3QKed-FOQrT",
        "outputId": "1d2b2daa-683a-4d71-f8b0-10847b05ef24"
      },
      "execution_count": 69,
      "outputs": [
        {
          "output_type": "execute_result",
          "data": {
            "text/plain": [
              "<matplotlib.axes._subplots.AxesSubplot at 0x7f8844eef550>"
            ]
          },
          "metadata": {},
          "execution_count": 69
        },
        {
          "output_type": "display_data",
          "data": {
            "image/png": "[encoded data removed]",
            "text/plain": [
              "<Figure size 432x288 with 2 Axes>"
            ]
          },
          "metadata": {
            "needs_background": "light"
          }
        }
      ]
    },
    {
      "cell_type": "code",
      "source": [
        ""
      ],
      "metadata": {
        "id": "CQzn_XArOCBb"
      },
      "execution_count": 69,
      "outputs": []
    },
    {
      "cell_type": "markdown",
      "source": [
        "# Null data "
      ],
      "metadata": {
        "id": "A-TjGTAIN-nl"
      }
    },
    {
      "cell_type": "code",
      "source": [
        "## null data \n",
        "df.isnull().sum()\n"
      ],
      "metadata": {
        "colab": {
          "base_uri": "https://localhost:8080/"
        },
        "id": "YKsBLNdzLmUf",
        "outputId": "77613781-cf48-419a-8a32-213fb4aa6f7b"
      },
      "execution_count": 70,
      "outputs": [
        {
          "output_type": "execute_result",
          "data": {
            "text/plain": [
              "instance_id             0\n",
              "track_name              0\n",
              "popularity            642\n",
              "acousticness            0\n",
              "danceability          556\n",
              "duration_ms            94\n",
              "energy                 94\n",
              "instrumentalness       95\n",
              "key                     0\n",
              "liveness                0\n",
              "loudness               36\n",
              "voice_gender          765\n",
              "mode                   35\n",
              "speechiness            26\n",
              "tempo                   0\n",
              "musician_category    1360\n",
              "valence               677\n",
              "music_genre             0\n",
              "dtype: int64"
            ]
          },
          "metadata": {},
          "execution_count": 70
        }
      ]
    },
    {
      "cell_type": "code",
      "source": [
        "print(\"Number of Categories in: \")\n",
        "for ColName in df[[\"voice_gender\",\"mode\",\"musician_category\"]]:\n",
        "    print(\"{} = {} and {} \".format(ColName,len(df[ColName].unique()),df[ColName].unique()))"
      ],
      "metadata": {
        "colab": {
          "base_uri": "https://localhost:8080/"
        },
        "id": "41WEKPwzW7V2",
        "outputId": "e7b25196-9200-414d-c23a-995783ad8c4e"
      },
      "execution_count": 71,
      "outputs": [
        {
          "output_type": "stream",
          "name": "stdout",
          "text": [
            "Number of Categories in: \n",
            "voice_gender = 4 and [NaN, 'Male', 'Female', 'Both']\n",
            "Categories (3, object): ['Male', 'Female', 'Both'] \n",
            "mode = 4 and ['Major', '?', 'Minor', NaN]\n",
            "Categories (3, object): ['Major', '?', 'Minor'] \n",
            "musician_category = 4 and ['Band', 'Duet', 'Solo', NaN]\n",
            "Categories (3, object): ['Band', 'Duet', 'Solo'] \n"
          ]
        }
      ]
    },
    {
      "cell_type": "code",
      "source": [
        "# popularity,danceability,valence are not skewed - mean\n",
        "# duartion,loudness,speechiness     - median\n",
        "# energy,instrumentalness   may be mean\n",
        "\n",
        "## categorical voice_gender,mode,musician_category                                "
      ],
      "metadata": {
        "id": "UpSkict_QfpW"
      },
      "execution_count": 72,
      "outputs": []
    },
    {
      "cell_type": "markdown",
      "source": [
        "# Remove Duplicates"
      ],
      "metadata": {
        "id": "CYZD4Co7NxVK"
      }
    },
    {
      "cell_type": "code",
      "source": [
        "# Removes Data Duplicates while Retaining the First one\n",
        "def remove_duplicate(data):\n",
        "  data.drop_duplicates(keep=\"first\", inplace=True)\n",
        "  return \"Checked Duplicates\"\n",
        "# Removes Duplicates from train data\n",
        "remove_duplicate(df)"
      ],
      "metadata": {
        "colab": {
          "base_uri": "https://localhost:8080/",
          "height": 35
        },
        "id": "SJDnFl2bMwb0",
        "outputId": "0df702ea-b0ab-48f5-b207-24d09ef146fa"
      },
      "execution_count": 73,
      "outputs": [
        {
          "output_type": "execute_result",
          "data": {
            "application/vnd.google.colaboratory.intrinsic+json": {
              "type": "string"
            },
            "text/plain": [
              "'Checked Duplicates'"
            ]
          },
          "metadata": {},
          "execution_count": 73
        }
      ]
    },
    {
      "cell_type": "markdown",
      "source": [
        "# data Preprocessing"
      ],
      "metadata": {
        "id": "Yt3e1XQSdzKS"
      }
    },
    {
      "cell_type": "markdown",
      "source": [
        "## Nan data "
      ],
      "metadata": {
        "id": "qWdydfh0eUQK"
      }
    },
    {
      "cell_type": "code",
      "source": [
        "df[\"tempo\"] = df[\"tempo\"].replace('?',np.nan).astype(float)\n",
        "df[\"tempo\"].plot(kind = \"density\")"
      ],
      "metadata": {
        "colab": {
          "base_uri": "https://localhost:8080/",
          "height": 282
        },
        "id": "CLoQfdYl0Z-C",
        "outputId": "2928e409-e3b9-4ae5-c13e-b9fae508d435"
      },
      "execution_count": 74,
      "outputs": [
        {
          "output_type": "execute_result",
          "data": {
            "text/plain": [
              "<matplotlib.axes._subplots.AxesSubplot at 0x7f8837f1ee90>"
            ]
          },
          "metadata": {},
          "execution_count": 74
        },
        {
          "output_type": "display_data",
          "data": {
            "image/png": "[encoded data removed]",
            "text/plain": [
              "<Figure size 432x288 with 1 Axes>"
            ]
          },
          "metadata": {
            "needs_background": "light"
          }
        }
      ]
    },
    {
      "cell_type": "code",
      "source": [
        "test[\"tempo\"] = test[\"tempo\"].replace('?',np.nan).astype(float)\n"
      ],
      "metadata": {
        "id": "E7pXJskm5S72"
      },
      "execution_count": 75,
      "outputs": []
    },
    {
      "cell_type": "code",
      "source": [
        "def impute_nan_create_category(df,ColName):\n",
        "     df[ColName] = np.where(df[ColName].isnull(),\"Unknown\",df[ColName])\n",
        "## Call function to create new category for variables\n",
        "for Columns in [\"voice_gender\",\"mode\",\"musician_category\"]:\n",
        "    impute_nan_create_category(df,Columns)\n",
        "    impute_nan_create_category(test,Columns)\n",
        "df[\"mode\"] = df[\"mode\"].str.replace('?',\"Unknown\")\n",
        "test[\"mode\"] = test[\"mode\"].str.replace('?',\"Unknown\")\n"
      ],
      "metadata": {
        "id": "ZH0A8ZCqdwlf"
      },
      "execution_count": 76,
      "outputs": []
    },
    {
      "cell_type": "code",
      "source": [
        "print(\"Number of Categories in: \")\n",
        "for ColName in df[[\"voice_gender\",\"mode\",\"musician_category\"]]:\n",
        "    print(\"{} = {} and {} \".format(ColName,len(df[ColName].unique()),df[ColName].unique()))"
      ],
      "metadata": {
        "colab": {
          "base_uri": "https://localhost:8080/"
        },
        "id": "WCVD0G6seWiw",
        "outputId": "15da1a19-888b-439e-9681-f813cfe752c8"
      },
      "execution_count": 77,
      "outputs": [
        {
          "output_type": "stream",
          "name": "stdout",
          "text": [
            "Number of Categories in: \n",
            "voice_gender = 4 and ['Unknown' 'Male' 'Female' 'Both'] \n",
            "mode = 3 and ['Major' 'Unknown' 'Minor'] \n",
            "musician_category = 4 and ['Band' 'Duet' 'Solo' 'Unknown'] \n"
          ]
        }
      ]
    },
    {
      "cell_type": "code",
      "source": [
        "for col in [\"popularity\",\"danceability\",\"valence\",\"energy\",\"instrumentalness\",'tempo']:\n",
        "  print(col)\n",
        "  mean = np.mean(df[col])\n",
        "  df[col].fillna(mean,inplace=True)\n",
        "  test[col].fillna(mean,inplace=True)\n",
        "\n",
        "for col in [\"duration_ms\",\"loudness\",\"speechiness\"]:\n",
        "  median = df[col].median()\n",
        "  df[col].fillna(median,inplace=True)\n",
        "  test[col].fillna(median,inplace=True)"
      ],
      "metadata": {
        "colab": {
          "base_uri": "https://localhost:8080/"
        },
        "id": "sC6Jq3FPe4FL",
        "outputId": "2c08cfd5-afb0-4a2b-88c0-882d1aca4614"
      },
      "execution_count": 78,
      "outputs": [
        {
          "output_type": "stream",
          "name": "stdout",
          "text": [
            "popularity\n",
            "danceability\n",
            "valence\n",
            "energy\n",
            "instrumentalness\n",
            "tempo\n"
          ]
        }
      ]
    },
    {
      "cell_type": "code",
      "source": [
        "df[\"duration_ms\"] = df[\"duration_ms\"].apply(lambda x: round(x/1000),2)\n",
        "test[\"duration_ms\"] = test[\"duration_ms\"].apply(lambda x: round(x/1000),2)\n"
      ],
      "metadata": {
        "id": "S29yPIjuglFH"
      },
      "execution_count": 79,
      "outputs": []
    },
    {
      "cell_type": "code",
      "source": [
        ""
      ],
      "metadata": {
        "id": "jlqR3UiC1r2j"
      },
      "execution_count": 79,
      "outputs": []
    },
    {
      "cell_type": "markdown",
      "source": [
        "## Feature selection"
      ],
      "metadata": {
        "id": "qun67sSDhZbc"
      }
    },
    {
      "cell_type": "code",
      "source": [
        "from sklearn.compose import make_column_selector as selector\n",
        "\n",
        "categorical_columns_selector = selector(dtype_include=[object,\"category\"])\n",
        "categorical_columns = categorical_columns_selector(df)\n",
        "categorical_columns.remove(\"instance_id\")\n",
        "categorical_columns.remove(\"track_name\")\n",
        "categorical_columns.remove('music_genre')"
      ],
      "metadata": {
        "id": "G95TdN5rz56W"
      },
      "execution_count": 80,
      "outputs": []
    },
    {
      "cell_type": "code",
      "source": [
        "df[\"voice_gender\"].unique()"
      ],
      "metadata": {
        "colab": {
          "base_uri": "https://localhost:8080/"
        },
        "id": "efoC8osZ0viL",
        "outputId": "31815e83-c6ea-4703-f6e3-c16db4edf9a8"
      },
      "execution_count": 81,
      "outputs": [
        {
          "output_type": "execute_result",
          "data": {
            "text/plain": [
              "array(['Unknown', 'Male', 'Female', 'Both'], dtype=object)"
            ]
          },
          "metadata": {},
          "execution_count": 81
        }
      ]
    },
    {
      "cell_type": "code",
      "source": [
        "from sklearn import preprocessing\n",
        "for col in categorical_columns:\n",
        "  le = preprocessing.LabelEncoder()\n",
        "  print(col)\n",
        "  df[col] = le.fit_transform(df[col])\n",
        "  test[col] = le.transform(test[col])"
      ],
      "metadata": {
        "colab": {
          "base_uri": "https://localhost:8080/"
        },
        "id": "JtbIjWeH3HAj",
        "outputId": "eb9b5d9b-c57e-4722-f6a4-ecb883eb84b7"
      },
      "execution_count": 82,
      "outputs": [
        {
          "output_type": "stream",
          "name": "stdout",
          "text": [
            "key\n",
            "voice_gender\n",
            "mode\n",
            "musician_category\n"
          ]
        }
      ]
    },
    {
      "cell_type": "code",
      "source": [
        "features = [col for col in df.columns if col not in [target_col, \"track_name\",\"instance_id\"]]\n",
        "features"
      ],
      "metadata": {
        "colab": {
          "base_uri": "https://localhost:8080/"
        },
        "id": "5u_qagUtgsw6",
        "outputId": "89c18745-1527-4b32-ee6d-f8ce99d7508a"
      },
      "execution_count": 83,
      "outputs": [
        {
          "output_type": "execute_result",
          "data": {
            "text/plain": [
              "['popularity',\n",
              " 'acousticness',\n",
              " 'danceability',\n",
              " 'duration_ms',\n",
              " 'energy',\n",
              " 'instrumentalness',\n",
              " 'key',\n",
              " 'liveness',\n",
              " 'loudness',\n",
              " 'voice_gender',\n",
              " 'mode',\n",
              " 'speechiness',\n",
              " 'tempo',\n",
              " 'musician_category',\n",
              " 'valence']"
            ]
          },
          "metadata": {},
          "execution_count": 83
        }
      ]
    },
    {
      "cell_type": "code",
      "source": [
        "from sklearn.preprocessing import LabelEncoder\n",
        "le=LabelEncoder()\n",
        "X=df[features]\n",
        "Y=le.fit_transform(df[target_col])"
      ],
      "metadata": {
        "id": "E6qBgeezi1dp"
      },
      "execution_count": 84,
      "outputs": []
    },
    {
      "cell_type": "code",
      "source": [
        "dict(zip(le.inverse_transform([0,1,2,3,4,5,6]),[0,1,2,3,4,5,6]))"
      ],
      "metadata": {
        "colab": {
          "base_uri": "https://localhost:8080/"
        },
        "id": "FHvA37X4jmH8",
        "outputId": "cee8fdc0-e0c0-4b19-a136-c9c4ad79d4ea"
      },
      "execution_count": 85,
      "outputs": [
        {
          "output_type": "execute_result",
          "data": {
            "text/plain": [
              "{'Classical': 0,\n",
              " 'Country': 1,\n",
              " 'Electronic': 2,\n",
              " 'Hip-Hop': 3,\n",
              " 'Jazz': 4,\n",
              " 'Rap': 5,\n",
              " 'Rock': 6}"
            ]
          },
          "metadata": {},
          "execution_count": 85
        }
      ]
    },
    {
      "cell_type": "code",
      "source": [
        ""
      ],
      "metadata": {
        "id": "hrnjtMszsxET"
      },
      "execution_count": 85,
      "outputs": []
    },
    {
      "cell_type": "markdown",
      "source": [
        "# Modelling"
      ],
      "metadata": {
        "id": "rqLON3xBki-O"
      }
    },
    {
      "cell_type": "code",
      "source": [
        "from sklearn.model_selection import train_test_split\n",
        "X_train, X_validation, y_train, y_validation = train_test_split(X, Y, train_size=0.75, random_state=42)\n",
        "X_test = test"
      ],
      "metadata": {
        "id": "eb9T3rzZjyi9"
      },
      "execution_count": 86,
      "outputs": []
    },
    {
      "cell_type": "markdown",
      "source": [
        "# Random Forest"
      ],
      "metadata": {
        "id": "LzyNCDlDsXj6"
      }
    },
    {
      "cell_type": "code",
      "source": [
        "from sklearn.ensemble import RandomForestClassifier\n",
        "from sklearn.metrics import accuracy_score, confusion_matrix\n",
        "\n",
        "rf = RandomForestClassifier(random_state=42, n_estimators=50, max_depth=6, criterion = 'entropy', \n",
        "                            min_samples_leaf= 1,min_samples_split= 2)\n",
        "rf.fit(X_train, y_train)\n",
        "\n",
        "y_predict_train_rf = rf.predict(X_train)\n",
        "y_predict_val_rf = rf.predict(X_validation)\n",
        "\n",
        "train_accuracy_score_rf = accuracy_score(y_train, y_predict_train_rf)\n",
        "val_accuracy_score_rf = accuracy_score(y_validation, y_predict_val_rf)\n",
        "\n",
        "print(train_accuracy_score_rf)\n",
        "print(val_accuracy_score_rf)"
      ],
      "metadata": {
        "colab": {
          "base_uri": "https://localhost:8080/"
        },
        "id": "XcrATDodsm2e",
        "outputId": "479830c7-1c77-45df-cfec-aaebb6d07505"
      },
      "execution_count": 87,
      "outputs": [
        {
          "output_type": "stream",
          "name": "stdout",
          "text": [
            "0.7579081632653061\n",
            "0.740627390971691\n"
          ]
        }
      ]
    },
    {
      "cell_type": "code",
      "source": [
        "def draw_confusion_matrix(cm):\n",
        "    plt.figure(figsize=(12,8))\n",
        "    sns.heatmap(cm,annot=True,fmt=\"d\", center=0, cmap='autumn') \n",
        "    plt.title(\"Confusion Matrix\")\n",
        "    plt.ylabel('True label')\n",
        "    plt.xlabel('Predicted label')\n",
        "    plt.show()"
      ],
      "metadata": {
        "id": "CNtQYjqz7siU"
      },
      "execution_count": 88,
      "outputs": []
    },
    {
      "cell_type": "code",
      "source": [
        "cm_rf = confusion_matrix(y_validation,y_predict_val_rf)\n",
        "draw_confusion_matrix(cm_rf)"
      ],
      "metadata": {
        "colab": {
          "base_uri": "https://localhost:8080/",
          "height": 513
        },
        "id": "kEHktg0k7fYx",
        "outputId": "ff5d37e7-8270-4061-b837-6b13686fbba4"
      },
      "execution_count": 89,
      "outputs": [
        {
          "output_type": "display_data",
          "data": {
            "image/png": "[encoded data removed]",
            "text/plain": [
              "<Figure size 864x576 with 2 Axes>"
            ]
          },
          "metadata": {
            "needs_background": "light"
          }
        }
      ]
    },
    {
      "cell_type": "code",
      "source": [
        "from sklearn.metrics import f1_score\n",
        "f1_score(y_validation, y_predict_val_rf,average = 'macro')"
      ],
      "metadata": {
        "colab": {
          "base_uri": "https://localhost:8080/"
        },
        "id": "iABubaVW78B7",
        "outputId": "74bd7948-9e9e-4376-ac21-89dd4acc5f5e"
      },
      "execution_count": 90,
      "outputs": [
        {
          "output_type": "execute_result",
          "data": {
            "text/plain": [
              "0.48563909461915283"
            ]
          },
          "metadata": {},
          "execution_count": 90
        }
      ]
    },
    {
      "cell_type": "markdown",
      "source": [
        "## Catboost"
      ],
      "metadata": {
        "id": "cZR5NxJqlqGS"
      }
    },
    {
      "cell_type": "code",
      "source": [
        "from catboost import CatBoostClassifier, Pool, metrics, cv\n",
        "from sklearn.metrics import accuracy_score,f1_score"
      ],
      "metadata": {
        "id": "GcNVayjLkcVg"
      },
      "execution_count": 91,
      "outputs": []
    },
    {
      "cell_type": "code",
      "source": [
        "\n",
        "train_dataset = Pool(data=X_train,\n",
        "                     label=y_train)\n",
        "\n",
        "eval_dataset = Pool(data=X_validation,\n",
        "                    label=y_validation)\n",
        "\n",
        "# Initialize CatBoostClassifier\n",
        "model = CatBoostClassifier(iterations=10,\n",
        "                           learning_rate=1,\n",
        "                           depth=2,\n",
        "                           loss_function='MultiClass')\n",
        "# Fit model\n",
        "model.fit(train_dataset)\n",
        "# Get predicted classes\n",
        "preds_class = model.predict(eval_dataset)\n",
        "# Get predicted probabilities for each class\n",
        "preds_proba = model.predict_proba(eval_dataset)\n",
        "# Get predicted RawFormulaVal\n",
        "preds_raw = model.predict(eval_dataset,\n",
        "                          prediction_type='RawFormulaVal')\n"
      ],
      "metadata": {
        "colab": {
          "base_uri": "https://localhost:8080/"
        },
        "id": "4bu3WaxXmLZP",
        "outputId": "5c187f7f-deb7-444f-daab-49bda8728c4f"
      },
      "execution_count": 92,
      "outputs": [
        {
          "output_type": "stream",
          "name": "stderr",
          "text": [
            "Custom logger is already specified. Specify more than one logger at same time is not thread safe."
          ]
        },
        {
          "output_type": "stream",
          "name": "stdout",
          "text": [
            "0:\tlearn: 1.2301433\ttotal: 27ms\tremaining: 243ms\n",
            "1:\tlearn: 1.1008851\ttotal: 67.3ms\tremaining: 269ms\n",
            "2:\tlearn: 1.0185094\ttotal: 95.5ms\tremaining: 223ms\n",
            "3:\tlearn: 0.9600340\ttotal: 120ms\tremaining: 180ms\n",
            "4:\tlearn: 0.9152582\ttotal: 150ms\tremaining: 150ms\n",
            "5:\tlearn: 0.8788485\ttotal: 173ms\tremaining: 115ms\n",
            "6:\tlearn: 0.8329090\ttotal: 214ms\tremaining: 91.8ms\n",
            "7:\tlearn: 0.8136067\ttotal: 250ms\tremaining: 62.4ms\n",
            "8:\tlearn: 0.7998179\ttotal: 273ms\tremaining: 30.3ms\n",
            "9:\tlearn: 0.7909787\ttotal: 286ms\tremaining: 0us\n"
          ]
        }
      ]
    },
    {
      "cell_type": "code",
      "source": [
        "f1_score(preds_class, y_validation,average = 'macro')"
      ],
      "metadata": {
        "colab": {
          "base_uri": "https://localhost:8080/"
        },
        "id": "6_Ycv3txomXa",
        "outputId": "b9fd8c30-c003-448b-fcd1-12125ac2129a"
      },
      "execution_count": 93,
      "outputs": [
        {
          "output_type": "execute_result",
          "data": {
            "text/plain": [
              "0.539886941501089"
            ]
          },
          "metadata": {},
          "execution_count": 93
        }
      ]
    },
    {
      "cell_type": "code",
      "source": [
        "! pip install hyperopt"
      ],
      "metadata": {
        "colab": {
          "base_uri": "https://localhost:8080/"
        },
        "id": "Ld-0BLyDLlpH",
        "outputId": "feca1b17-e35a-42af-a725-d62147237ee4"
      },
      "execution_count": 94,
      "outputs": [
        {
          "output_type": "stream",
          "name": "stdout",
          "text": [
            "Requirement already satisfied: hyperopt in /usr/local/lib/python3.7/dist-packages (0.1.2)\n",
            "Requirement already satisfied: networkx in /usr/local/lib/python3.7/dist-packages (from hyperopt) (2.6.3)\n",
            "Requirement already satisfied: numpy in /usr/local/lib/python3.7/dist-packages (from hyperopt) (1.19.5)\n",
            "Requirement already satisfied: pymongo in /usr/local/lib/python3.7/dist-packages (from hyperopt) (3.12.1)\n",
            "Requirement already satisfied: scipy in /usr/local/lib/python3.7/dist-packages (from hyperopt) (1.4.1)\n",
            "Requirement already satisfied: six in /usr/local/lib/python3.7/dist-packages (from hyperopt) (1.15.0)\n",
            "Requirement already satisfied: tqdm in /usr/local/lib/python3.7/dist-packages (from hyperopt) (4.62.3)\n",
            "Requirement already satisfied: future in /usr/local/lib/python3.7/dist-packages (from hyperopt) (0.16.0)\n"
          ]
        }
      ]
    },
    {
      "cell_type": "code",
      "source": [
        "import hyperopt\n",
        "\n",
        "def hyperopt_objective(params):\n",
        "    model = CatBoostClassifier(\n",
        "        l2_leaf_reg=int(params['l2_leaf_reg']),\n",
        "        learning_rate=params['learning_rate'],\n",
        "        iterations=500,\n",
        "        eval_metric=metrics.Accuracy(),\n",
        "        random_seed=42,\n",
        "        verbose=False,\n",
        "        loss_function='MultiClass'    )\n",
        "    \n",
        "    cv_data = cv(\n",
        "        Pool(X, Y),\n",
        "        model.get_params(),\n",
        "        logging_level='Silent',\n",
        "    )\n",
        "    best_accuracy = np.max(cv_data['test-Accuracy-mean'])\n",
        "    \n",
        "    return 1 - best_accuracy # as hyperopt minimises"
      ],
      "metadata": {
        "id": "Fs7rdV86Lllh"
      },
      "execution_count": 95,
      "outputs": []
    },
    {
      "cell_type": "code",
      "source": [
        "from numpy.random import RandomState\n",
        "\n",
        "params_space = {\n",
        "    'l2_leaf_reg': hyperopt.hp.qloguniform('l2_leaf_reg', 0, 2, 1),\n",
        "    'learning_rate': hyperopt.hp.uniform('learning_rate', 1e-3, 5e-1),\n",
        "}\n",
        "\n",
        "trials = hyperopt.Trials()\n",
        "\n",
        "best = hyperopt.fmin(\n",
        "    hyperopt_objective,\n",
        "    space=params_space,\n",
        "    algo=hyperopt.tpe.suggest,\n",
        "    max_evals=50,\n",
        "    trials=trials,\n",
        "    rstate=RandomState(123)\n",
        ")\n",
        "\n",
        "print(best)"
      ],
      "metadata": {
        "id": "51Me6BnXLliB"
      },
      "execution_count": null,
      "outputs": []
    },
    {
      "cell_type": "code",
      "source": [
        "cat_model = CatBoostClassifier(\n",
        "    l2_leaf_reg=int(best['l2_leaf_reg']),\n",
        "    learning_rate=best['learning_rate'],\n",
        "    iterations=500,\n",
        "    eval_metric=metrics.Accuracy(),\n",
        "    random_seed=42,\n",
        "    verbose=False,\n",
        "    loss_function=\"MultiClass\"\n",
        ")\n",
        "cv_data = cv(Pool(X,Y), cat_model.get_params())"
      ],
      "metadata": {
        "id": "fk2MrDumLld5"
      },
      "execution_count": null,
      "outputs": []
    },
    {
      "cell_type": "markdown",
      "source": [
        "# Prediction"
      ],
      "metadata": {
        "id": "XRiYUrf-RFOO"
      }
    },
    {
      "cell_type": "code",
      "source": [
        "results = model.predict(X_test[features])"
      ],
      "metadata": {
        "id": "diJMzGXULlbO"
      },
      "execution_count": 101,
      "outputs": []
    },
    {
      "cell_type": "code",
      "source": [
        "test_1 = pd.read_csv('test.csv')\n",
        "data = []\n",
        "label_dict = {'Classical': 0,'Country': 1,'Electronic': 2,'Hip-Hop': 3,'Jazz': 4,'Rap': 5,'Rock': 6}\n",
        "label_list = list(label_dict)\n",
        "for idx,row in test.iterrows():\n",
        "  data.append([row[\"instance_id\"],label_list[int(results[idx])]])"
      ],
      "metadata": {
        "id": "IoOIUFeHR--6"
      },
      "execution_count": 106,
      "outputs": []
    },
    {
      "cell_type": "code",
      "source": [
        "submission = pd.DataFrame(data= data,columns = [\"instance_id\",\"music_genre\"])\n",
        "submission.head()"
      ],
      "metadata": {
        "colab": {
          "base_uri": "https://localhost:8080/",
          "height": 206
        },
        "id": "1E98IWo8R8U0",
        "outputId": "8767200b-8f4c-4289-f459-86b84b61bf77"
      },
      "execution_count": 107,
      "outputs": [
        {
          "output_type": "execute_result",
          "data": {
            "text/html": [
              "\n",
              "  <div id=\"df-c328e0cc-e1a7-45cd-812c-d904402cc2f6\">\n",
              "    <div class=\"colab-df-container\">\n",
              "      <div>\n",
              "<style scoped>\n",
              "    .dataframe tbody tr th:only-of-type {\n",
              "        vertical-align: middle;\n",
              "    }\n",
              "\n",
              "    .dataframe tbody tr th {\n",
              "        vertical-align: top;\n",
              "    }\n",
              "\n",
              "    .dataframe thead th {\n",
              "        text-align: right;\n",
              "    }\n",
              "</style>\n",
              "<table border=\"1\" class=\"dataframe\">\n",
              "  <thead>\n",
              "    <tr style=\"text-align: right;\">\n",
              "      <th></th>\n",
              "      <th>instance_id</th>\n",
              "      <th>music_genre</th>\n",
              "    </tr>\n",
              "  </thead>\n",
              "  <tbody>\n",
              "    <tr>\n",
              "      <th>0</th>\n",
              "      <td>MSC_70753.0</td>\n",
              "      <td>Classical</td>\n",
              "    </tr>\n",
              "    <tr>\n",
              "      <th>1</th>\n",
              "      <td>MSC_24064.0</td>\n",
              "      <td>Rock</td>\n",
              "    </tr>\n",
              "    <tr>\n",
              "      <th>2</th>\n",
              "      <td>MSC_22731.0</td>\n",
              "      <td>Rock</td>\n",
              "    </tr>\n",
              "    <tr>\n",
              "      <th>3</th>\n",
              "      <td>MSC_32095.0</td>\n",
              "      <td>Rock</td>\n",
              "    </tr>\n",
              "    <tr>\n",
              "      <th>4</th>\n",
              "      <td>MSC_24198.0</td>\n",
              "      <td>Country</td>\n",
              "    </tr>\n",
              "  </tbody>\n",
              "</table>\n",
              "</div>\n",
              "      <button class=\"colab-df-convert\" onclick=\"convertToInteractive('df-c328e0cc-e1a7-45cd-812c-d904402cc2f6')\"\n",
              "              title=\"Convert this dataframe to an interactive table.\"\n",
              "              style=\"display:none;\">\n",
              "        \n",
              "  <svg xmlns=\"http://www.w3.org/2000/svg\" height=\"24px\"viewBox=\"0 0 24 24\"\n",
              "       width=\"24px\">\n",
              "    <path d=\"M0 0h24v24H0V0z\" fill=\"none\"/>\n",
              "    <path d=\"M18.56 5.44l.94 2.06.94-2.06 2.06-.94-2.06-.94-.94-2.06-.94 2.06-2.06.94zm-11 1L8.5 8.5l.94-2.06 2.06-.94-2.06-.94L8.5 2.5l-.94 2.06-2.06.94zm10 10l.94 2.06.94-2.06 2.06-.94-2.06-.94-.94-2.06-.94 2.06-2.06.94z\"/><path d=\"M17.41 7.96l-1.37-1.37c-.4-.4-.92-.59-1.43-.59-.52 0-1.04.2-1.43.59L10.3 9.45l-7.72 7.72c-.78.78-.78 2.05 0 2.83L4 21.41c.39.39.9.59 1.41.59.51 0 1.02-.2 1.41-.59l7.78-7.78 2.81-2.81c.8-.78.8-2.07 0-2.86zM5.41 20L4 18.59l7.72-7.72 1.47 1.35L5.41 20z\"/>\n",
              "  </svg>\n",
              "      </button>\n",
              "      \n",
              "  <style>\n",
              "    .colab-df-container {\n",
              "      display:flex;\n",
              "      flex-wrap:wrap;\n",
              "      gap: 12px;\n",
              "    }\n",
              "\n",
              "    .colab-df-convert {\n",
              "      background-color: #E8F0FE;\n",
              "      border: none;\n",
              "      border-radius: 50%;\n",
              "      cursor: pointer;\n",
              "      display: none;\n",
              "      fill: #1967D2;\n",
              "      height: 32px;\n",
              "      padding: 0 0 0 0;\n",
              "      width: 32px;\n",
              "    }\n",
              "\n",
              "    .colab-df-convert:hover {\n",
              "      background-color: #E2EBFA;\n",
              "      box-shadow: 0px 1px 2px rgba(60, 64, 67, 0.3), 0px 1px 3px 1px rgba(60, 64, 67, 0.15);\n",
              "      fill: #174EA6;\n",
              "    }\n",
              "\n",
              "    [theme=dark] .colab-df-convert {\n",
              "      background-color: #3B4455;\n",
              "      fill: #D2E3FC;\n",
              "    }\n",
              "\n",
              "    [theme=dark] .colab-df-convert:hover {\n",
              "      background-color: #434B5C;\n",
              "      box-shadow: 0px 1px 3px 1px rgba(0, 0, 0, 0.15);\n",
              "      filter: drop-shadow(0px 1px 2px rgba(0, 0, 0, 0.3));\n",
              "      fill: #FFFFFF;\n",
              "    }\n",
              "  </style>\n",
              "\n",
              "      <script>\n",
              "        const buttonEl =\n",
              "          document.querySelector('#df-c328e0cc-e1a7-45cd-812c-d904402cc2f6 button.colab-df-convert');\n",
              "        buttonEl.style.display =\n",
              "          google.colab.kernel.accessAllowed ? 'block' : 'none';\n",
              "\n",
              "        async function convertToInteractive(key) {\n",
              "          const element = document.querySelector('#df-c328e0cc-e1a7-45cd-812c-d904402cc2f6');\n",
              "          const dataTable =\n",
              "            await google.colab.kernel.invokeFunction('convertToInteractive',\n",
              "                                                     [key], {});\n",
              "          if (!dataTable) return;\n",
              "\n",
              "          const docLinkHtml = 'Like what you see? Visit the ' +\n",
              "            '<a target=\"_blank\" href=https://colab.research.google.com/notebooks/data_table.ipynb>data table notebook</a>'\n",
              "            + ' to learn more about interactive tables.';\n",
              "          element.innerHTML = '';\n",
              "          dataTable['output_type'] = 'display_data';\n",
              "          await google.colab.output.renderOutput(dataTable, element);\n",
              "          const docLink = document.createElement('div');\n",
              "          docLink.innerHTML = docLinkHtml;\n",
              "          element.appendChild(docLink);\n",
              "        }\n",
              "      </script>\n",
              "    </div>\n",
              "  </div>\n",
              "  "
            ],
            "text/plain": [
              "   instance_id music_genre\n",
              "0  MSC_70753.0   Classical\n",
              "1  MSC_24064.0        Rock\n",
              "2  MSC_22731.0        Rock\n",
              "3  MSC_32095.0        Rock\n",
              "4  MSC_24198.0     Country"
            ]
          },
          "metadata": {},
          "execution_count": 107
        }
      ]
    },
    {
      "cell_type": "code",
      "source": [
        "submission.to_csv('submission1.csv',index=False)"
      ],
      "metadata": {
        "id": "eNsQ1NxHTCVs"
      },
      "execution_count": 110,
      "outputs": []
    },
    {
      "cell_type": "markdown",
      "source": [
        "# To do "
      ],
      "metadata": {
        "id": "O-CvSy_Wn9Lq"
      }
    },
    {
      "cell_type": "code",
      "source": [
        "1 . change milli seconds to seconds"
      ],
      "metadata": {
        "id": "hHAXa3M9OJpZ"
      },
      "execution_count": null,
      "outputs": []
    }
  ]
}